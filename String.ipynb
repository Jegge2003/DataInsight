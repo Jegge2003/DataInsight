{
  "nbformat": 4,
  "nbformat_minor": 0,
  "metadata": {
    "colab": {
      "name": "String.ipynb",
      "provenance": [],
      "authorship_tag": "ABX9TyN7jcpQj2ThU75ceLoGPe5K",
      "include_colab_link": true
    },
    "kernelspec": {
      "name": "python3",
      "display_name": "Python 3"
    },
    "language_info": {
      "name": "python"
    }
  },
  "cells": [
    {
      "cell_type": "markdown",
      "metadata": {
        "id": "view-in-github",
        "colab_type": "text"
      },
      "source": [
        "<a href=\"https://colab.research.google.com/github/Jegge2003/DataInsight/blob/main/String.ipynb\" target=\"_parent\"><img src=\"https://colab.research.google.com/assets/colab-badge.svg\" alt=\"Open In Colab\"/></a>"
      ]
    },
    {
      "cell_type": "code",
      "execution_count": 1,
      "metadata": {
        "colab": {
          "base_uri": "https://localhost:8080/"
        },
        "id": "87LW-itHJb1B",
        "outputId": "881e56e4-059d-4a7d-f094-8fa7a4a74bd7"
      },
      "outputs": [
        {
          "output_type": "stream",
          "name": "stdout",
          "text": [
            "Hi\n",
            "Hi\n"
          ]
        }
      ],
      "source": [
        "#A string in python \n",
        "#Either double quotation or single quotations\n",
        "\n",
        "#String in double quotation\n",
        "the_string = \"Hi\"\n",
        "print(the_string)\n",
        "\n",
        "#String in single quotation\n",
        "the_string = 'Hi'\n",
        "print(the_string)"
      ]
    },
    {
      "cell_type": "code",
      "source": [
        "#Accessing characters of a python string\n",
        "str = \"Momentum\"\n",
        "print(\"The string is\", str)\n",
        "\n",
        "#Accessing the first character\n",
        "print(\"The first character is\", str[0])\n",
        "\n",
        "#Accessing the last character\n",
        "print(\"The last character is\", str[-1])\n",
        "\n",
        "#Accessing from the 3rd to last character\n",
        "print(\"The 3rd to last character is\", str[2:])"
      ],
      "metadata": {
        "colab": {
          "base_uri": "https://localhost:8080/"
        },
        "id": "05VjlWgnJhE3",
        "outputId": "77abb785-c4b0-4a71-f3c3-a5baa667a9ad"
      },
      "execution_count": 3,
      "outputs": [
        {
          "output_type": "stream",
          "name": "stdout",
          "text": [
            "The string is Momentum\n",
            "The first character is M\n",
            "The last character is m\n",
            "The 3rd to last character is mentum\n"
          ]
        }
      ]
    },
    {
      "cell_type": "code",
      "source": [
        "#Concatentation/Joining of 2 different strings\n",
        "str1 = \"Good\"\n",
        "str2 = \"Morning\"\n",
        "\n",
        "#Joining with +\n",
        "print(\"str1 + str2 = \", str1+str2)\n",
        "\n",
        "#Using *\n",
        "print(\"str1*3\", str1*3)"
      ],
      "metadata": {
        "colab": {
          "base_uri": "https://localhost:8080/"
        },
        "id": "0K-fx5pJJk_-",
        "outputId": "0bec1a9c-adbb-4cce-cf59-ff014073b3c1"
      },
      "execution_count": 4,
      "outputs": [
        {
          "output_type": "stream",
          "name": "stdout",
          "text": [
            "str1 + str2 =  GoodMorning\n",
            "str1*3 GoodGoodGood\n"
          ]
        }
      ]
    },
    {
      "cell_type": "code",
      "source": [
        "#Iterating through a string to know the number of characters\n",
        "str=\"Mangoes are sweet\"\n",
        "count = 0\n",
        "for char in str:\n",
        "    count+=1\n",
        "print(\"The total number of characters are: \", count)"
      ],
      "metadata": {
        "colab": {
          "base_uri": "https://localhost:8080/"
        },
        "id": "JVL3byjUKANU",
        "outputId": "54fc6223-abbd-4210-c3db-8eff22844acf"
      },
      "execution_count": 5,
      "outputs": [
        {
          "output_type": "stream",
          "name": "stdout",
          "text": [
            "The total number of characters are:  17\n"
          ]
        }
      ]
    },
    {
      "cell_type": "code",
      "source": [
        ""
      ],
      "metadata": {
        "id": "97zO2OsoKLlB"
      },
      "execution_count": null,
      "outputs": []
    }
  ]
}