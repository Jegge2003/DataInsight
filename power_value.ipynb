{
  "nbformat": 4,
  "nbformat_minor": 0,
  "metadata": {
    "colab": {
      "name": "power_value.ipynb",
      "provenance": [],
      "authorship_tag": "ABX9TyOvQGItz3PMym/OtTHRY4aU",
      "include_colab_link": true
    },
    "kernelspec": {
      "name": "python3",
      "display_name": "Python 3"
    },
    "language_info": {
      "name": "python"
    }
  },
  "cells": [
    {
      "cell_type": "markdown",
      "metadata": {
        "id": "view-in-github",
        "colab_type": "text"
      },
      "source": [
        "<a href=\"https://colab.research.google.com/github/Jegge2003/DataInsight/blob/main/power_value.ipynb\" target=\"_parent\"><img src=\"https://colab.research.google.com/assets/colab-badge.svg\" alt=\"Open In Colab\"/></a>"
      ]
    },
    {
      "cell_type": "code",
      "execution_count": null,
      "metadata": {
        "colab": {
          "base_uri": "https://localhost:8080/"
        },
        "id": "UM6X8riAX0xL",
        "outputId": "4bd2f837-6a17-4dcb-8608-f60e5312ce7b"
      },
      "outputs": [
        {
          "output_type": "stream",
          "name": "stdout",
          "text": [
            "Number to find its power: 2\n",
            "Number to raise the number to: 2\n",
            "The final answer is:  4\n"
          ]
        }
      ],
      "source": [
        "def power_value(num,pow):\n",
        "    #function to raise a particular number num to a power pow\n",
        "    num = int(num)\n",
        "    pow = int(pow)\n",
        "    return num**pow\n",
        "\n",
        "#Taking user input\n",
        "n = input('Number to find its power: ')\n",
        "p = input('Number to raise the number to: ')\n",
        "\n",
        "#Calling the function by passing n as num and p as pow\n",
        "value = power_value(n,p)\n",
        "\n",
        "#Printing the value out\n",
        "print('The final answer is: ', value)"
      ]
    },
    {
      "cell_type": "code",
      "source": [
        ""
      ],
      "metadata": {
        "id": "LAbdFi2FX4tq"
      },
      "execution_count": null,
      "outputs": []
    }
  ]
}